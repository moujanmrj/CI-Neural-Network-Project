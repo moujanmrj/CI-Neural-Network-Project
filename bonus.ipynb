{
  "nbformat": 4,
  "nbformat_minor": 0,
  "metadata": {
    "colab": {
      "name": "کد امتیازی به صورت جداگانه.ipynb",
      "provenance": []
    },
    "kernelspec": {
      "name": "python3",
      "display_name": "Python 3"
    },
    "language_info": {
      "name": "python"
    }
  },
  "cells": [
    {
      "cell_type": "code",
      "source": [
        "from tensorflow import keras\n",
        "from keras import datasets, layers, losses\n",
        "import numpy as np\n",
        "import matplotlib.pyplot as plt\n",
        "import matplotlib.image as img\n",
        "import pandas as pd"
      ],
      "metadata": {
        "id": "ScrO57xgiN4g"
      },
      "execution_count": 1,
      "outputs": []
    },
    {
      "cell_type": "code",
      "source": [
        "!gdown --id 1Y1vgzPvMeVcXSxDfOlCVia7wsU7p8M6g -O CIFAR10.tar.gz\n",
        "!tar xzf CIFAR10.tar.gz"
      ],
      "metadata": {
        "colab": {
          "base_uri": "https://localhost:8080/"
        },
        "id": "0JSGWAeNiZU4",
        "outputId": "d3f74e3d-b93d-4d93-8743-7ebbafc2c5e9"
      },
      "execution_count": 2,
      "outputs": [
        {
          "output_type": "stream",
          "name": "stdout",
          "text": [
            "/usr/local/lib/python3.7/dist-packages/gdown/cli.py:131: FutureWarning: Option `--id` was deprecated in version 4.3.1 and will be removed in 5.0. You don't need to pass it anymore to use a file ID.\n",
            "  category=FutureWarning,\n",
            "Downloading...\n",
            "From: https://drive.google.com/uc?id=1Y1vgzPvMeVcXSxDfOlCVia7wsU7p8M6g\n",
            "To: /content/CIFAR10.tar.gz\n",
            "100% 19.8M/19.8M [00:01<00:00, 19.6MB/s]\n"
          ]
        }
      ]
    },
    {
      "cell_type": "code",
      "execution_count": 3,
      "metadata": {
        "colab": {
          "base_uri": "https://localhost:8080/"
        },
        "id": "88TE9xOtiIlj",
        "outputId": "9e5f201c-c7f3-4e45-8fce-a1bf6c899767"
      },
      "outputs": [
        {
          "output_type": "stream",
          "name": "stdout",
          "text": [
            "Downloading data from https://www.cs.toronto.edu/~kriz/cifar-10-python.tar.gz\n",
            "170500096/170498071 [==============================] - 4s 0us/step\n",
            "170508288/170498071 [==============================] - 4s 0us/step\n"
          ]
        }
      ],
      "source": [
        "(train_images, train_labels), (test_images, test_labels) = datasets.cifar10.load_data()\n",
        "train_images, test_images = train_images / 255.0, test_images / 255.0"
      ]
    },
    {
      "cell_type": "code",
      "source": [
        "model = keras.Sequential([\n",
        "                          \n",
        "    layers.Conv2D(32, (3, 3), padding='same', kernel_initializer='he_uniform', activation='relu', input_shape=(32, 32, 3)),\n",
        "    layers.Conv2D(32, (3, 3), padding='same', kernel_initializer='he_uniform', activation='relu'),\n",
        "    layers.MaxPool2D((2, 2)),\n",
        "    layers.Dropout(0.25),\n",
        "\n",
        "    layers.Conv2D(64, (3, 3), padding='same', kernel_initializer='he_uniform', activation='relu'),\n",
        "    layers.Conv2D(64, (3, 3), padding='same', kernel_initializer='he_uniform', activation='relu'),\n",
        "    layers.MaxPool2D((2, 2)),\n",
        "    layers.Dropout(0.25),\n",
        "\n",
        "    layers.Conv2D(128, (3, 3), padding='same', kernel_initializer='he_uniform', activation='relu'),\n",
        "    layers.Conv2D(128, (3, 3), padding='same', kernel_initializer='he_uniform', activation='relu'),\n",
        "    layers.MaxPool2D((2, 2)),\n",
        "    layers.Dropout(0.25),\n",
        "\n",
        "    layers.Flatten(),\n",
        "    layers.Dense(128, kernel_initializer='he_uniform', activation='relu'),\n",
        "    layers.Dropout(0.25),\n",
        "    layers.Dense(10, kernel_initializer='he_uniform', activation='softmax')\n",
        "\n",
        "])"
      ],
      "metadata": {
        "id": "0EB-Kr9niWxm"
      },
      "execution_count": 4,
      "outputs": []
    },
    {
      "cell_type": "code",
      "source": [
        "model.summary()"
      ],
      "metadata": {
        "colab": {
          "base_uri": "https://localhost:8080/"
        },
        "id": "3gZQ9weYil8W",
        "outputId": "c969093c-e16a-40ab-c06a-32cfaa88efa2"
      },
      "execution_count": 5,
      "outputs": [
        {
          "output_type": "stream",
          "name": "stdout",
          "text": [
            "Model: \"sequential\"\n",
            "_________________________________________________________________\n",
            " Layer (type)                Output Shape              Param #   \n",
            "=================================================================\n",
            " conv2d (Conv2D)             (None, 32, 32, 32)        896       \n",
            "                                                                 \n",
            " conv2d_1 (Conv2D)           (None, 32, 32, 32)        9248      \n",
            "                                                                 \n",
            " max_pooling2d (MaxPooling2D  (None, 16, 16, 32)       0         \n",
            " )                                                               \n",
            "                                                                 \n",
            " dropout (Dropout)           (None, 16, 16, 32)        0         \n",
            "                                                                 \n",
            " conv2d_2 (Conv2D)           (None, 16, 16, 64)        18496     \n",
            "                                                                 \n",
            " conv2d_3 (Conv2D)           (None, 16, 16, 64)        36928     \n",
            "                                                                 \n",
            " max_pooling2d_1 (MaxPooling  (None, 8, 8, 64)         0         \n",
            " 2D)                                                             \n",
            "                                                                 \n",
            " dropout_1 (Dropout)         (None, 8, 8, 64)          0         \n",
            "                                                                 \n",
            " conv2d_4 (Conv2D)           (None, 8, 8, 128)         73856     \n",
            "                                                                 \n",
            " conv2d_5 (Conv2D)           (None, 8, 8, 128)         147584    \n",
            "                                                                 \n",
            " max_pooling2d_2 (MaxPooling  (None, 4, 4, 128)        0         \n",
            " 2D)                                                             \n",
            "                                                                 \n",
            " dropout_2 (Dropout)         (None, 4, 4, 128)         0         \n",
            "                                                                 \n",
            " flatten (Flatten)           (None, 2048)              0         \n",
            "                                                                 \n",
            " dense (Dense)               (None, 128)               262272    \n",
            "                                                                 \n",
            " dropout_3 (Dropout)         (None, 128)               0         \n",
            "                                                                 \n",
            " dense_1 (Dense)             (None, 10)                1290      \n",
            "                                                                 \n",
            "=================================================================\n",
            "Total params: 550,570\n",
            "Trainable params: 550,570\n",
            "Non-trainable params: 0\n",
            "_________________________________________________________________\n"
          ]
        }
      ]
    },
    {
      "cell_type": "code",
      "source": [
        "model.compile(optimizer='adam', loss=losses.SparseCategoricalCrossentropy(), metrics=['accuracy'])"
      ],
      "metadata": {
        "id": "gMq98vmDipPs"
      },
      "execution_count": 6,
      "outputs": []
    },
    {
      "cell_type": "code",
      "source": [
        "history = model.fit(train_images, train_labels, batch_size=50, epochs=25, validation_data=(test_images, test_labels))"
      ],
      "metadata": {
        "colab": {
          "base_uri": "https://localhost:8080/"
        },
        "id": "y4ritZkKitQ0",
        "outputId": "b33bfc35-60ff-4dac-b883-23386b526fea"
      },
      "execution_count": 7,
      "outputs": [
        {
          "output_type": "stream",
          "name": "stdout",
          "text": [
            "Epoch 1/25\n",
            "1000/1000 [==============================] - 354s 352ms/step - loss: 1.6641 - accuracy: 0.3856 - val_loss: 1.2256 - val_accuracy: 0.5615\n",
            "Epoch 2/25\n",
            "1000/1000 [==============================] - 349s 349ms/step - loss: 1.1791 - accuracy: 0.5793 - val_loss: 0.9650 - val_accuracy: 0.6550\n",
            "Epoch 3/25\n",
            "1000/1000 [==============================] - 348s 348ms/step - loss: 0.9621 - accuracy: 0.6644 - val_loss: 0.8248 - val_accuracy: 0.7130\n",
            "Epoch 4/25\n",
            "1000/1000 [==============================] - 351s 351ms/step - loss: 0.8513 - accuracy: 0.7029 - val_loss: 0.7512 - val_accuracy: 0.7415\n",
            "Epoch 5/25\n",
            "1000/1000 [==============================] - 357s 357ms/step - loss: 0.7815 - accuracy: 0.7271 - val_loss: 0.7150 - val_accuracy: 0.7506\n",
            "Epoch 6/25\n",
            "1000/1000 [==============================] - 354s 354ms/step - loss: 0.7232 - accuracy: 0.7505 - val_loss: 0.7454 - val_accuracy: 0.7443\n",
            "Epoch 7/25\n",
            "1000/1000 [==============================] - 353s 353ms/step - loss: 0.6840 - accuracy: 0.7633 - val_loss: 0.6568 - val_accuracy: 0.7783\n",
            "Epoch 8/25\n",
            "1000/1000 [==============================] - 353s 353ms/step - loss: 0.6545 - accuracy: 0.7719 - val_loss: 0.6325 - val_accuracy: 0.7854\n",
            "Epoch 9/25\n",
            "1000/1000 [==============================] - 351s 351ms/step - loss: 0.6312 - accuracy: 0.7823 - val_loss: 0.6164 - val_accuracy: 0.7907\n",
            "Epoch 10/25\n",
            "1000/1000 [==============================] - 354s 354ms/step - loss: 0.6017 - accuracy: 0.7914 - val_loss: 0.6324 - val_accuracy: 0.7836\n",
            "Epoch 11/25\n",
            "1000/1000 [==============================] - 356s 356ms/step - loss: 0.5842 - accuracy: 0.7966 - val_loss: 0.5982 - val_accuracy: 0.8002\n",
            "Epoch 12/25\n",
            "1000/1000 [==============================] - 356s 356ms/step - loss: 0.5663 - accuracy: 0.8034 - val_loss: 0.6941 - val_accuracy: 0.7758\n",
            "Epoch 13/25\n",
            "1000/1000 [==============================] - 355s 355ms/step - loss: 0.5492 - accuracy: 0.8101 - val_loss: 0.6045 - val_accuracy: 0.8017\n",
            "Epoch 14/25\n",
            "1000/1000 [==============================] - 354s 354ms/step - loss: 0.5360 - accuracy: 0.8135 - val_loss: 0.6355 - val_accuracy: 0.7881\n",
            "Epoch 15/25\n",
            "1000/1000 [==============================] - 348s 348ms/step - loss: 0.5223 - accuracy: 0.8185 - val_loss: 0.6250 - val_accuracy: 0.7991\n",
            "Epoch 16/25\n",
            "1000/1000 [==============================] - 349s 349ms/step - loss: 0.5094 - accuracy: 0.8221 - val_loss: 0.5879 - val_accuracy: 0.8121\n",
            "Epoch 17/25\n",
            "1000/1000 [==============================] - 348s 348ms/step - loss: 0.5011 - accuracy: 0.8252 - val_loss: 0.5731 - val_accuracy: 0.8076\n",
            "Epoch 18/25\n",
            "1000/1000 [==============================] - 348s 348ms/step - loss: 0.4827 - accuracy: 0.8311 - val_loss: 0.5993 - val_accuracy: 0.8018\n",
            "Epoch 19/25\n",
            "1000/1000 [==============================] - 348s 348ms/step - loss: 0.4793 - accuracy: 0.8303 - val_loss: 0.6533 - val_accuracy: 0.7984\n",
            "Epoch 20/25\n",
            "1000/1000 [==============================] - 349s 349ms/step - loss: 0.4717 - accuracy: 0.8327 - val_loss: 0.5919 - val_accuracy: 0.8145\n",
            "Epoch 21/25\n",
            "1000/1000 [==============================] - 348s 348ms/step - loss: 0.4611 - accuracy: 0.8389 - val_loss: 0.5819 - val_accuracy: 0.8109\n",
            "Epoch 22/25\n",
            "1000/1000 [==============================] - 347s 347ms/step - loss: 0.4548 - accuracy: 0.8409 - val_loss: 0.5888 - val_accuracy: 0.8118\n",
            "Epoch 23/25\n",
            "1000/1000 [==============================] - 347s 347ms/step - loss: 0.4563 - accuracy: 0.8394 - val_loss: 0.5966 - val_accuracy: 0.8057\n",
            "Epoch 24/25\n",
            "1000/1000 [==============================] - 348s 348ms/step - loss: 0.4384 - accuracy: 0.8462 - val_loss: 0.5933 - val_accuracy: 0.8120\n",
            "Epoch 25/25\n",
            "1000/1000 [==============================] - 352s 352ms/step - loss: 0.4303 - accuracy: 0.8481 - val_loss: 0.5724 - val_accuracy: 0.8136\n"
          ]
        }
      ]
    },
    {
      "cell_type": "code",
      "source": [
        "plt.plot(history.history['accuracy'], label='train accuracy')\n",
        "plt.plot(history.history['val_accuracy'], label='validation accuracy')\n",
        "plt.ylim([0.5, 1])\n",
        "plt.legend(loc='lower right')"
      ],
      "metadata": {
        "id": "tLKa5aAtoQxG",
        "outputId": "24135881-50d0-4e09-f8a0-ccd316ce4369",
        "colab": {
          "base_uri": "https://localhost:8080/",
          "height": 286
        }
      },
      "execution_count": 8,
      "outputs": [
        {
          "output_type": "execute_result",
          "data": {
            "text/plain": [
              "<matplotlib.legend.Legend at 0x7f4e4da739d0>"
            ]
          },
          "metadata": {},
          "execution_count": 8
        },
        {
          "output_type": "display_data",
          "data": {
            "text/plain": [
              "<Figure size 432x288 with 1 Axes>"
            ],
            "image/png": "[encoded data removed]"
          },
          "metadata": {
            "needs_background": "light"
          }
        }
      ]
    },
    {
      "cell_type": "markdown",
      "source": [
        "در ابتدا که فقط شرایط سوال 1 را انجام دهیم مشاهده میشود که مدل انقدر خوب عمل نمیکند و بیش برازش اتفاق افتاده و در سوال دوم میبینیم که مدل کمی از لحاظ دقت و سرعت بهتر شده و در سوال سوم در آخر که نمودار نهایی اش در اینجا قرار داده شده میبینیم که بیش برازش نداریم و مدل خیلی بهتر شده است."
      ],
      "metadata": {
        "id": "mq5qvOlXEXfE"
      }
    }
  ]
}